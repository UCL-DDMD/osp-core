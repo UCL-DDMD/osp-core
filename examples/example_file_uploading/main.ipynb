{
 "cells": [
  {
   "cell_type": "markdown",
   "metadata": {},
   "source": [
    "# 1. Load in all necessary libraries"
   ]
  },
  {
   "cell_type": "code",
   "execution_count": 74,
   "metadata": {},
   "outputs": [],
   "source": [
    "# This file is used to interact with SimPhoNy\n",
    "\n",
    "import os\n",
    "import re\n",
    "import uuid\n",
    "import pandas as pd\n",
    "from osp.core.utils import pretty_print\n",
    "from osp.core.namespaces import lib\n",
    "from osp.core.utils import branch, export_cuds, import_cuds, pretty_print\n",
    "from osp.wrappers.sqlite import SqliteSession"
   ]
  },
  {
   "cell_type": "markdown",
   "metadata": {},
   "source": [
    "# 2. Read the dataset into Pandas format"
   ]
  },
  {
   "cell_type": "code",
   "execution_count": 75,
   "metadata": {},
   "outputs": [
    {
     "name": "stdout",
     "output_type": "stream",
     "text": [
      "['Li', 'Ni', 'Co', 'Mn', 'M', 'LC_a', 'LC_c', 'CV', 'CD', 'V_min', 'V_max', 'Mr_dopant', 'Mr', 'no_electron_M', 'EN_M', 'No_iso_dopant', 'E_ion_dopant', 'EA_dopant', 'AR_dopant', 'IR_dopant', 'IC', 'EC']\n"
     ]
    }
   ],
   "source": [
    "#Read in the data\n",
    "data = pd.read_json(\"example_json_converted.json\")\n",
    "# Print the headers of the dataset\n",
    "column_name = list(data.columns)\n",
    "print(column_name)\n",
    "\n",
    "mapping_keys = {'Li':'Composition','Ni':'Composition'\n",
    "                #,'Co':'Co','Mn':'Mn','M':'M',\n",
    "                #'LC_a':'LatticeConstant','LC_c':'LatticeConstant',\n",
    "                #'CV':'CellVolume', 'CD':'CurrentDensity', 'V_min':'MinVoltage'\n",
    "                }"
   ]
  },
  {
   "cell_type": "markdown",
   "metadata": {},
   "source": [
    "# 3. Automatically create CUDS system"
   ]
  },
  {
   "cell_type": "code",
   "execution_count": 114,
   "metadata": {},
   "outputs": [
    {
     "ename": "AttributeError",
     "evalue": "\"Unknown entity 'name_subclass' in namespace lib. For backwards compatibility reasons we also looked for NAME_SUBCLASS and failed.\"",
     "output_type": "error",
     "traceback": [
      "\u001b[0;31m---------------------------------------------------------------------------\u001b[0m",
      "\u001b[0;31mKeyError\u001b[0m                                  Traceback (most recent call last)",
      "File \u001b[0;32m~/Desktop/SimPhoNy/lib/python3.9/site-packages/osp/core/ontology/namespace.py:221\u001b[0m, in \u001b[0;36mOntologyNamespace.get_from_suffix\u001b[0;34m(self, suffix, case_sensitive)\u001b[0m\n\u001b[1;32m    220\u001b[0m \u001b[39mtry\u001b[39;00m:\n\u001b[0;32m--> 221\u001b[0m     \u001b[39mreturn\u001b[39;00m \u001b[39mself\u001b[39;49m\u001b[39m.\u001b[39;49mget_from_iri(iri, _name\u001b[39m=\u001b[39;49msuffix)\n\u001b[1;32m    222\u001b[0m \u001b[39mexcept\u001b[39;00m \u001b[39mKeyError\u001b[39;00m \u001b[39mas\u001b[39;00m e:\n",
      "File \u001b[0;32m~/Desktop/SimPhoNy/lib/python3.9/site-packages/osp/core/ontology/namespace.py:204\u001b[0m, in \u001b[0;36mOntologyNamespace.get_from_iri\u001b[0;34m(self, iri, _name)\u001b[0m\n\u001b[1;32m    203\u001b[0m \u001b[39mif\u001b[39;00m rdflib\u001b[39m.\u001b[39mURIRef(\u001b[39mstr\u001b[39m(iri)) \u001b[39min\u001b[39;00m \u001b[39mself\u001b[39m:\n\u001b[0;32m--> 204\u001b[0m     \u001b[39mreturn\u001b[39;00m \u001b[39mself\u001b[39;49m\u001b[39m.\u001b[39;49m_namespace_registry\u001b[39m.\u001b[39;49mfrom_iri(\u001b[39mstr\u001b[39;49m(iri), _name\u001b[39m=\u001b[39;49m_name)\n\u001b[1;32m    205\u001b[0m \u001b[39melse\u001b[39;00m:\n",
      "File \u001b[0;32m~/Desktop/SimPhoNy/lib/python3.9/site-packages/osp/core/ontology/namespace_registry.py:195\u001b[0m, in \u001b[0;36mNamespaceRegistry.from_iri\u001b[0;34m(self, iri, raise_error, allow_types, _name)\u001b[0m\n\u001b[1;32m    194\u001b[0m \u001b[39mif\u001b[39;00m raise_error:\n\u001b[0;32m--> 195\u001b[0m     \u001b[39mraise\u001b[39;00m \u001b[39mKeyError\u001b[39;00m(\n\u001b[1;32m    196\u001b[0m         \u001b[39mf\u001b[39m\u001b[39m\"\u001b[39m\u001b[39mIRI \u001b[39m\u001b[39m{\u001b[39;00miri\u001b[39m}\u001b[39;00m\u001b[39m not found in graph or not of any \u001b[39m\u001b[39m\"\u001b[39m\n\u001b[1;32m    197\u001b[0m         \u001b[39mf\u001b[39m\u001b[39m\"\u001b[39m\u001b[39mtype in the set \u001b[39m\u001b[39m{\u001b[39;00mallow_types\u001b[39m}\u001b[39;00m\u001b[39m\"\u001b[39m\n\u001b[1;32m    198\u001b[0m     )\n",
      "\u001b[0;31mKeyError\u001b[0m: \"IRI http://www.osp-core.com/lib#name_subclass not found in graph or not of any type in the set frozenset({rdflib.term.URIRef('http://www.w3.org/2002/07/owl#ObjectProperty'), rdflib.term.URIRef('http://www.w3.org/2002/07/owl#DatatypeProperty'), rdflib.term.URIRef('http://www.w3.org/2002/07/owl#Class'), rdflib.term.URIRef('http://www.w3.org/2000/01/rdf-schema#Class')})\"",
      "\nDuring handling of the above exception, another exception occurred:\n",
      "\u001b[0;31mKeyError\u001b[0m                                  Traceback (most recent call last)",
      "File \u001b[0;32m~/Desktop/SimPhoNy/lib/python3.9/site-packages/osp/core/ontology/namespace.py:476\u001b[0m, in \u001b[0;36mOntologyNamespace._get_case_insensitive\u001b[0;34m(self, name, method)\u001b[0m\n\u001b[1;32m    475\u001b[0m \u001b[39mtry\u001b[39;00m:\n\u001b[0;32m--> 476\u001b[0m     r \u001b[39m=\u001b[39m method(alternative, case_sensitive\u001b[39m=\u001b[39;49m\u001b[39mTrue\u001b[39;49;00m)\n\u001b[1;32m    477\u001b[0m \u001b[39mexcept\u001b[39;00m \u001b[39mKeyError\u001b[39;00m \u001b[39mas\u001b[39;00m e:\n",
      "File \u001b[0;32m~/Desktop/SimPhoNy/lib/python3.9/site-packages/osp/core/ontology/namespace.py:225\u001b[0m, in \u001b[0;36mOntologyNamespace.get_from_suffix\u001b[0;34m(self, suffix, case_sensitive)\u001b[0m\n\u001b[1;32m    224\u001b[0m     \u001b[39mreturn\u001b[39;00m \u001b[39mself\u001b[39m\u001b[39m.\u001b[39m_get_case_insensitive(suffix, \u001b[39mself\u001b[39m\u001b[39m.\u001b[39mget_from_suffix)\n\u001b[0;32m--> 225\u001b[0m \u001b[39mraise\u001b[39;00m e\n",
      "File \u001b[0;32m~/Desktop/SimPhoNy/lib/python3.9/site-packages/osp/core/ontology/namespace.py:221\u001b[0m, in \u001b[0;36mOntologyNamespace.get_from_suffix\u001b[0;34m(self, suffix, case_sensitive)\u001b[0m\n\u001b[1;32m    220\u001b[0m \u001b[39mtry\u001b[39;00m:\n\u001b[0;32m--> 221\u001b[0m     \u001b[39mreturn\u001b[39;00m \u001b[39mself\u001b[39;49m\u001b[39m.\u001b[39;49mget_from_iri(iri, _name\u001b[39m=\u001b[39;49msuffix)\n\u001b[1;32m    222\u001b[0m \u001b[39mexcept\u001b[39;00m \u001b[39mKeyError\u001b[39;00m \u001b[39mas\u001b[39;00m e:\n",
      "File \u001b[0;32m~/Desktop/SimPhoNy/lib/python3.9/site-packages/osp/core/ontology/namespace.py:204\u001b[0m, in \u001b[0;36mOntologyNamespace.get_from_iri\u001b[0;34m(self, iri, _name)\u001b[0m\n\u001b[1;32m    203\u001b[0m \u001b[39mif\u001b[39;00m rdflib\u001b[39m.\u001b[39mURIRef(\u001b[39mstr\u001b[39m(iri)) \u001b[39min\u001b[39;00m \u001b[39mself\u001b[39m:\n\u001b[0;32m--> 204\u001b[0m     \u001b[39mreturn\u001b[39;00m \u001b[39mself\u001b[39;49m\u001b[39m.\u001b[39;49m_namespace_registry\u001b[39m.\u001b[39;49mfrom_iri(\u001b[39mstr\u001b[39;49m(iri), _name\u001b[39m=\u001b[39;49m_name)\n\u001b[1;32m    205\u001b[0m \u001b[39melse\u001b[39;00m:\n",
      "File \u001b[0;32m~/Desktop/SimPhoNy/lib/python3.9/site-packages/osp/core/ontology/namespace_registry.py:195\u001b[0m, in \u001b[0;36mNamespaceRegistry.from_iri\u001b[0;34m(self, iri, raise_error, allow_types, _name)\u001b[0m\n\u001b[1;32m    194\u001b[0m \u001b[39mif\u001b[39;00m raise_error:\n\u001b[0;32m--> 195\u001b[0m     \u001b[39mraise\u001b[39;00m \u001b[39mKeyError\u001b[39;00m(\n\u001b[1;32m    196\u001b[0m         \u001b[39mf\u001b[39m\u001b[39m\"\u001b[39m\u001b[39mIRI \u001b[39m\u001b[39m{\u001b[39;00miri\u001b[39m}\u001b[39;00m\u001b[39m not found in graph or not of any \u001b[39m\u001b[39m\"\u001b[39m\n\u001b[1;32m    197\u001b[0m         \u001b[39mf\u001b[39m\u001b[39m\"\u001b[39m\u001b[39mtype in the set \u001b[39m\u001b[39m{\u001b[39;00mallow_types\u001b[39m}\u001b[39;00m\u001b[39m\"\u001b[39m\n\u001b[1;32m    198\u001b[0m     )\n",
      "\u001b[0;31mKeyError\u001b[0m: \"IRI http://www.osp-core.com/lib#NAME_SUBCLASS not found in graph or not of any type in the set frozenset({rdflib.term.URIRef('http://www.w3.org/2002/07/owl#ObjectProperty'), rdflib.term.URIRef('http://www.w3.org/2002/07/owl#DatatypeProperty'), rdflib.term.URIRef('http://www.w3.org/2002/07/owl#Class'), rdflib.term.URIRef('http://www.w3.org/2000/01/rdf-schema#Class')})\"",
      "\nThe above exception was the direct cause of the following exception:\n",
      "\u001b[0;31mKeyError\u001b[0m                                  Traceback (most recent call last)",
      "File \u001b[0;32m~/Desktop/SimPhoNy/lib/python3.9/site-packages/osp/core/ontology/namespace.py:136\u001b[0m, in \u001b[0;36mOntologyNamespace.__getattr__\u001b[0;34m(self, name)\u001b[0m\n\u001b[1;32m    135\u001b[0m \u001b[39mtry\u001b[39;00m:\n\u001b[0;32m--> 136\u001b[0m     \u001b[39mreturn\u001b[39;00m \u001b[39mself\u001b[39;49m\u001b[39m.\u001b[39;49mget_from_suffix(name)\n\u001b[1;32m    137\u001b[0m \u001b[39mexcept\u001b[39;00m \u001b[39mKeyError\u001b[39;00m \u001b[39mas\u001b[39;00m e:\n",
      "File \u001b[0;32m~/Desktop/SimPhoNy/lib/python3.9/site-packages/osp/core/ontology/namespace.py:224\u001b[0m, in \u001b[0;36mOntologyNamespace.get_from_suffix\u001b[0;34m(self, suffix, case_sensitive)\u001b[0m\n\u001b[1;32m    223\u001b[0m \u001b[39mif\u001b[39;00m \u001b[39mnot\u001b[39;00m case_sensitive:\n\u001b[0;32m--> 224\u001b[0m     \u001b[39mreturn\u001b[39;00m \u001b[39mself\u001b[39;49m\u001b[39m.\u001b[39;49m_get_case_insensitive(suffix, \u001b[39mself\u001b[39;49m\u001b[39m.\u001b[39;49mget_from_suffix)\n\u001b[1;32m    225\u001b[0m \u001b[39mraise\u001b[39;00m e\n",
      "File \u001b[0;32m~/Desktop/SimPhoNy/lib/python3.9/site-packages/osp/core/ontology/namespace.py:494\u001b[0m, in \u001b[0;36mOntologyNamespace._get_case_insensitive\u001b[0;34m(self, name, method)\u001b[0m\n\u001b[1;32m    493\u001b[0m \u001b[39melse\u001b[39;00m:\n\u001b[0;32m--> 494\u001b[0m     \u001b[39mraise\u001b[39;00m \u001b[39mKeyError\u001b[39;00m(\n\u001b[1;32m    495\u001b[0m         \u001b[39mf\u001b[39m\u001b[39m\"\u001b[39m\u001b[39mUnknown entity \u001b[39m\u001b[39m'\u001b[39m\u001b[39m{\u001b[39;00mname\u001b[39m}\u001b[39;00m\u001b[39m'\u001b[39m\u001b[39m in namespace \u001b[39m\u001b[39m{\u001b[39;00m\u001b[39mself\u001b[39m\u001b[39m.\u001b[39m_name\u001b[39m}\u001b[39;00m\u001b[39m. \u001b[39m\u001b[39m\"\u001b[39m\n\u001b[1;32m    496\u001b[0m         \u001b[39mf\u001b[39m\u001b[39m\"\u001b[39m\u001b[39mFor backwards compatibility reasons we also \u001b[39m\u001b[39m\"\u001b[39m\n\u001b[1;32m    497\u001b[0m         \u001b[39mf\u001b[39m\u001b[39m\"\u001b[39m\u001b[39mlooked for \u001b[39m\u001b[39m{\u001b[39;00malternative\u001b[39m}\u001b[39;00m\u001b[39m and failed.\u001b[39m\u001b[39m\"\u001b[39m\n\u001b[1;32m    498\u001b[0m     ) \u001b[39mfrom\u001b[39;00m \u001b[39mexception\u001b[39;00m\n\u001b[1;32m    499\u001b[0m \u001b[39mreturn\u001b[39;00m r\n",
      "\u001b[0;31mKeyError\u001b[0m: \"Unknown entity 'name_subclass' in namespace lib. For backwards compatibility reasons we also looked for NAME_SUBCLASS and failed.\"",
      "\nThe above exception was the direct cause of the following exception:\n",
      "\u001b[0;31mAttributeError\u001b[0m                            Traceback (most recent call last)",
      "Cell \u001b[0;32mIn [114], line 44\u001b[0m\n\u001b[1;32m     41\u001b[0m     \u001b[38;5;28mprint\u001b[39m(a)\n\u001b[1;32m     42\u001b[0m     \u001b[38;5;28;01mreturn\u001b[39;00m(a)\n\u001b[0;32m---> 44\u001b[0m auto_add(current_cuds,name_ontology\u001b[38;5;241m=\u001b[39mlib,name_subclass\u001b[38;5;241m=\u001b[39m\u001b[38;5;124m\"\u001b[39m\u001b[38;5;124mComposition\u001b[39m\u001b[38;5;124m\"\u001b[39m,name\u001b[38;5;241m=\u001b[39m\u001b[38;5;124m\"\u001b[39m\u001b[38;5;124mLi\u001b[39m\u001b[38;5;124m\"\u001b[39m,value\u001b[38;5;241m=\u001b[39m\u001b[38;5;241m12\u001b[39m)\n",
      "Cell \u001b[0;32mIn [114], line 40\u001b[0m, in \u001b[0;36mauto_add\u001b[0;34m(cuds, name_ontology, name_subclass, value, name)\u001b[0m\n\u001b[1;32m     39\u001b[0m \u001b[38;5;28;01mdef\u001b[39;00m \u001b[38;5;21mauto_add\u001b[39m(cuds,name_ontology,name_subclass,value,name):\n\u001b[0;32m---> 40\u001b[0m     a\u001b[38;5;241m=\u001b[39m cuds\u001b[38;5;241m.\u001b[39madd(\u001b[43mname_ontology\u001b[49m\u001b[38;5;241;43m.\u001b[39;49m\u001b[43mname_subclass\u001b[49m(name\u001b[38;5;241m=\u001b[39mname,value\u001b[38;5;241m=\u001b[39mvalue))\n\u001b[1;32m     41\u001b[0m     \u001b[38;5;28mprint\u001b[39m(a)\n\u001b[1;32m     42\u001b[0m     \u001b[38;5;28;01mreturn\u001b[39;00m(a)\n",
      "File \u001b[0;32m~/Desktop/SimPhoNy/lib/python3.9/site-packages/osp/core/ontology/namespace.py:138\u001b[0m, in \u001b[0;36mOntologyNamespace.__getattr__\u001b[0;34m(self, name)\u001b[0m\n\u001b[1;32m    136\u001b[0m     \u001b[39mreturn\u001b[39;00m \u001b[39mself\u001b[39m\u001b[39m.\u001b[39mget_from_suffix(name)\n\u001b[1;32m    137\u001b[0m \u001b[39mexcept\u001b[39;00m \u001b[39mKeyError\u001b[39;00m \u001b[39mas\u001b[39;00m e:\n\u001b[0;32m--> 138\u001b[0m     \u001b[39mraise\u001b[39;00m \u001b[39mAttributeError\u001b[39;00m(\u001b[39mstr\u001b[39m(e)) \u001b[39mfrom\u001b[39;00m \u001b[39me\u001b[39;00m\n",
      "\u001b[0;31mAttributeError\u001b[0m: \"Unknown entity 'name_subclass' in namespace lib. For backwards compatibility reasons we also looked for NAME_SUBCLASS and failed.\""
     ]
    }
   ],
   "source": [
    "# With the known subclass namespace above and the mapping between the variables\n",
    "# and the ontology subclasses/namespace, we can write codes to automatically add the objects to the cuds system\n",
    "\n",
    "\n",
    "#Method 1.\n",
    "list_cuds =[]\n",
    "\n",
    "for row in range(0,len(data)):\n",
    "    for columm in range(0,len(data.columns)):\n",
    "        current_cuds = lib.Electrode(name=f\"electrode-{row}\")\n",
    "        list_cuds.append(current_cuds)\n",
    "        for i in column_name:\n",
    "            if i in mapping_keys:\n",
    "                #print(i)\n",
    "                class_name= mapping_keys[i]\n",
    "                #column_index = data[i][1]\n",
    "                #print(column_index)\n",
    "\n",
    "                # update the scripts to add the value to the namespace\n",
    "                b = f\"lib.{class_name}(name={i},value={data.iloc[row][columm]})\"\n",
    "                print(b)\n",
    "                current_cuds.add(b)\n",
    "\n",
    "\n",
    "#Method 2.\n",
    "def auto_add(cuds,name_ontology,name_subclass,value,name):\n",
    "    a= cuds.add(name_ontology.name_subclass(name=name,value=value))\n",
    "    print(a)\n",
    "    return(a)\n",
    "\n",
    "auto_add(current_cuds,name_ontology=lib,name_subclass=\"Composition\",name=\"Li\",value=12)\n",
    "\n",
    "#print(list_cuds)"
   ]
  },
  {
   "cell_type": "code",
   "execution_count": 107,
   "metadata": {},
   "outputs": [
    {
     "data": {
      "text/plain": [
       "<lib.Composition: d6920f6a-398f-434d-8b1b-42cdc68487bd,  CoreSession: @0x119b4b0d0>"
      ]
     },
     "execution_count": 107,
     "metadata": {},
     "output_type": "execute_result"
    }
   ],
   "source": [
    "c = lib.Electrode(name=\"cathode\")\n",
    "c.add(lib.Composition(name = \"Li\",value=1.19))\n",
    "\n"
   ]
  },
  {
   "cell_type": "markdown",
   "metadata": {},
   "source": [
    "# 3. Interaction with SimPhoNy"
   ]
  },
  {
   "cell_type": "markdown",
   "metadata": {},
   "source": []
  },
  {
   "cell_type": "markdown",
   "metadata": {},
   "source": [
    "* utils.get_relationships_between(a, b) returns a set with the relationships that connect a and b .\n",
    "\n",
    "* a.get_attributes() returns a dictionary with the name and the value of the attributes of a.\n",
    "\n",
    "* a.is_a(oclass) is True if the instance a is or inherits from oclass.\n",
    "\n",
    "* osp.core.get_entity(\"namespace.entity\") returns the class associated with an entity in a namespace. It can be used to instantiate objects.\n",
    "\n",
    "* [attr.argname for attr in oclass.attributes.keys()] returns a list with the attributes of an oclass.\n",
    "\n",
    "* [attr.namespace for attr in oclass.attributes.keys()] returns a list with the namespace of the attributes of an oclass.\n",
    "\n",
    "* pretty_print(cuds_object)"
   ]
  },
  {
   "cell_type": "markdown",
   "metadata": {},
   "source": [
    "# 4. Simple Search\n",
    "\n",
    "* Search via a given name:\n",
    "To find all the materials with a given element:\n",
    "  queried_element ='Li'\n",
    "  search.find_cuds_object(criterion = lambda x: queried_element in x.element,\n",
    "                        root=city_cuds,\n",
    "                        rel=city.hasElements,\n",
    "                        find_all=True)\n",
    "\n",
    "* Search via a relationship:\n",
    " queried_uid = uuid.uuid4()\n",
    "    search.find_cuds_object_by_uid(uid=queried_uid,\n",
    "                               root=city_cuds,\n",
    "                               rel=city.get_default_rel())\n",
    "\n",
    "* Search based on the relationships\n",
    " search.find_cuds_objects_by_attribute(attribute='age',\n",
    "                                      value=26,\n",
    "                                      root=city_cuds,\n",
    "                                      rel=city.hasInhabitant)\n",
    "\n",
    "* Search based on the attributes\n",
    "search.find_cuds_objects_by_attribute(attribute='age',\n",
    "                                      value=26,\n",
    "                                      root=city_cuds,\n",
    "                                      rel=city.hasInhabitant)"
   ]
  },
  {
   "cell_type": "code",
   "execution_count": null,
   "metadata": {},
   "outputs": [
    {
     "name": "stdout",
     "output_type": "stream",
     "text": [
      "  uid of c: 6a34224d-e379-4dbd-85d2-8dfb5c1ef609\n"
     ]
    }
   ],
   "source": [
    "\n",
    "c = branch(for i in range(len(data)))\n",
    "\n",
    "for i in range(0,len(data)):\n",
    "    electrode_materials = f\"electrode id_{i}\"\n",
    "    #print(\"The labels of the cathode objects are created\")\n",
    "    electrode_materials= lib.Electrode(name=electrode_materials)\n",
    "#print(\"Creating a Cathode object, c...\")\n",
    "#c = lib.Electrode(name=\"NMC\")\n",
    "print(\"  uid of c: \" + str(electrode_materials.uid))\n",
    "#print(\"  IRI of c: \" + str(c.iri))\n",
    "#print(\"  oclass of c: \" + str(c.oclass) + \"\\n\")\n",
    "\n",
    "\n",
    "#for i in range(len(data)-1):\n",
    "#    print(i)\n",
    "#This line of codes help to read in the values of any classes\n",
    "#results = c.get_attributes()\n",
    "#results_list = list(results.values())\n",
    "#\n",
    "#print(results_list)\n",
    "#\n",
    "#data.iloc[1,2]\n",
    "# When you are retuning a lot of values at the same time:\n",
    "#values_results = {name:results_list[i] for i,name in enumerate(results_list)}\n",
    "\n",
    "#trial_results = [i for i in enumerate(results_list)]\n",
    "#print(trial_results)\n",
    "\n",
    "\n",
    "\n",
    "\n",
    "#for row in range(0,len(data)-1):\n",
    "#    for name in column_name:\n",
    "#        if name == \"Li\":\n",
    "#            compos = lib.Composition(name =\"Li\", value= data.iloc[row,2]\n",
    "#            )\n",
    "#            print(c.get(oclass=compos))\n"
   ]
  },
  {
   "cell_type": "code",
   "execution_count": 73,
   "metadata": {},
   "outputs": [
    {
     "name": "stdout",
     "output_type": "stream",
     "text": [
      "  uid of c: ff12b0be-15e4-49eb-b351-35da17b7b5ab\n",
      "  IRI of c: http://www.osp-core.com/cuds#ff12b0be-15e4-49eb-b351-35da17b7b5ab\n",
      "  oclass of c: lib.Electrode\n",
      "\n",
      "Creating Citizen objects, p1, p2...\n"
     ]
    },
    {
     "ename": "AttributeError",
     "evalue": "'NoneType' object has no attribute 'uid'",
     "output_type": "error",
     "traceback": [
      "\u001b[0;31m---------------------------------------------------------------------------\u001b[0m",
      "\u001b[0;31mAttributeError\u001b[0m                            Traceback (most recent call last)",
      "Cell \u001b[0;32mIn [73], line 25\u001b[0m\n\u001b[1;32m     13\u001b[0m e\n\u001b[1;32m     14\u001b[0m \u001b[38;5;66;03m#p2 = lib.b(name=\"Mn\", value =0.3)\u001b[39;00m\n\u001b[1;32m     15\u001b[0m \n\u001b[1;32m     16\u001b[0m \u001b[38;5;66;03m#c.add(p1,p2, rel=lib.HAS_PART)\u001b[39;00m\n\u001b[0;32m   (...)\u001b[0m\n\u001b[1;32m     22\u001b[0m \u001b[38;5;66;03m#print(\"  IRI of p2: \" + str(p2.iri))\u001b[39;00m\n\u001b[1;32m     23\u001b[0m \u001b[38;5;66;03m#print(\"  oclass of p2: \" + str(p2.oclass) + \"\\n\")\u001b[39;00m\n\u001b[0;32m---> 25\u001b[0m pretty_print(e)\n",
      "File \u001b[0;32m~/Desktop/SimPhoNy/lib/python3.9/site-packages/osp/core/utils/pretty_print.py:19\u001b[0m, in \u001b[0;36mpretty_print\u001b[0;34m(cuds_object, file)\u001b[0m\n\u001b[1;32m      9\u001b[0m \u001b[39m\"\"\"Print the given cuds_object in a human readable way.\u001b[39;00m\n\u001b[1;32m     10\u001b[0m \n\u001b[1;32m     11\u001b[0m \u001b[39mThe uuid, the type, the ancestors and the description and the contents\u001b[39;00m\n\u001b[0;32m   (...)\u001b[0m\n\u001b[1;32m     16\u001b[0m \u001b[39m    file (TextIOWrapper): The file to print to.\u001b[39;00m\n\u001b[1;32m     17\u001b[0m \u001b[39m\"\"\"\u001b[39;00m\n\u001b[1;32m     18\u001b[0m pp \u001b[39m=\u001b[39m _pp_cuds_object_name(cuds_object)\n\u001b[0;32m---> 19\u001b[0m pp \u001b[39m+\u001b[39m\u001b[39m=\u001b[39m \u001b[39m\"\u001b[39m\u001b[39m\\n\u001b[39;00m\u001b[39m  uid: \u001b[39m\u001b[39m\"\u001b[39m \u001b[39m+\u001b[39m \u001b[39mstr\u001b[39m(cuds_object\u001b[39m.\u001b[39;49muid)\n\u001b[1;32m     20\u001b[0m pp \u001b[39m+\u001b[39m\u001b[39m=\u001b[39m \u001b[39m\"\u001b[39m\u001b[39m\\n\u001b[39;00m\u001b[39m  type: \u001b[39m\u001b[39m\"\u001b[39m \u001b[39m+\u001b[39m \u001b[39mstr\u001b[39m(cuds_object\u001b[39m.\u001b[39moclass)\n\u001b[1;32m     21\u001b[0m pp \u001b[39m+\u001b[39m\u001b[39m=\u001b[39m \u001b[39m\"\u001b[39m\u001b[39m\\n\u001b[39;00m\u001b[39m  superclasses: \u001b[39m\u001b[39m\"\u001b[39m \u001b[39m+\u001b[39m \u001b[39m\"\u001b[39m\u001b[39m, \u001b[39m\u001b[39m\"\u001b[39m\u001b[39m.\u001b[39mjoin(\n\u001b[1;32m     22\u001b[0m     \u001b[39msorted\u001b[39m(\u001b[39mmap\u001b[39m(\u001b[39mstr\u001b[39m, cuds_object\u001b[39m.\u001b[39moclass\u001b[39m.\u001b[39msuperclasses))\n\u001b[1;32m     23\u001b[0m )\n",
      "\u001b[0;31mAttributeError\u001b[0m: 'NoneType' object has no attribute 'uid'"
     ]
    }
   ],
   "source": [
    "c = lib.Electrode(name=\"cathode\")\n",
    "print(\"  uid of c: \" + str(c.uid))\n",
    "print(\"  IRI of c: \" + str(c.iri))\n",
    "print(\"  oclass of c: \" + str(c.oclass) + \"\\n\")\n",
    "\n",
    "b=\"Electrode\"\n",
    "print(\"Creating Citizen objects, p1, p2...\")\n",
    "\n",
    "p1 = f\"lib.{b}(name='test')\"\n",
    "\n",
    "e = exec(p1)\n",
    "\n",
    "e\n",
    "#p2 = lib.b(name=\"Mn\", value =0.3)\n",
    "\n",
    "#c.add(p1,p2, rel=lib.HAS_PART)\n",
    "\n",
    "#print(\"  uid of p1: \" + str(p1.uid))\n",
    "#print(\"  IRI of p1: \" + str(p1.iri))\n",
    "#print(\"  oclass of p1: \" + str(p1.oclass) + \"\\n\")\n",
    "#print(\"  uid of p2: \" + str(p2.uid))\n",
    "#print(\"  IRI of p2: \" + str(p2.iri))\n",
    "#print(\"  oclass of p2: \" + str(p2.oclass) + \"\\n\")\n",
    "\n",
    "pretty_print(e)"
   ]
  },
  {
   "cell_type": "code",
   "execution_count": null,
   "metadata": {},
   "outputs": [],
   "source": []
  },
  {
   "cell_type": "code",
   "execution_count": null,
   "metadata": {},
   "outputs": [],
   "source": []
  }
 ],
 "metadata": {
  "kernelspec": {
   "display_name": "Python 3.9.6 ('SimPhoNy': venv)",
   "language": "python",
   "name": "python3"
  },
  "language_info": {
   "codemirror_mode": {
    "name": "ipython",
    "version": 3
   },
   "file_extension": ".py",
   "mimetype": "text/x-python",
   "name": "python",
   "nbconvert_exporter": "python",
   "pygments_lexer": "ipython3",
   "version": "3.9.6"
  },
  "orig_nbformat": 4,
  "vscode": {
   "interpreter": {
    "hash": "7ef8d7d3aa3539ddef17926580cf34f8737b66f253e4bb7b3e478ab6e398f430"
   }
  }
 },
 "nbformat": 4,
 "nbformat_minor": 2
}
