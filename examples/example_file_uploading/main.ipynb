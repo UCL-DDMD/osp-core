{
 "cells": [
  {
   "cell_type": "markdown",
   "metadata": {},
   "source": [
    "# 1. Load in all necessary libraries"
   ]
  },
  {
   "cell_type": "code",
   "execution_count": 114,
   "metadata": {},
   "outputs": [],
   "source": [
    "# This file is used for several steps, mainly to interact the dataset with the SimPhoNy\n",
    "# Dataset\n",
    "\n",
    "import pandas as pd\n",
    "from osp.core.utils import pretty_print\n",
    "from osp.core.namespaces import lib"
   ]
  },
  {
   "cell_type": "markdown",
   "metadata": {},
   "source": [
    "# 2. Read the dataset into Pandas format"
   ]
  },
  {
   "cell_type": "code",
   "execution_count": 48,
   "metadata": {},
   "outputs": [
    {
     "name": "stdout",
     "output_type": "stream",
     "text": [
      "Index(['Li', 'Ni', 'Co', 'Mn', 'M', 'LC_a', 'LC_c', 'CV', 'CD', 'V_min',\n",
      "       'V_max', 'Mr_dopant', 'Mr', 'no_electron_M', 'EN_M', 'No_iso_dopant',\n",
      "       'E_ion_dopant', 'EA_dopant', 'AR_dopant', 'IR_dopant', 'IC', 'EC'],\n",
      "      dtype='object')\n",
      "<class 'pandas.core.indexes.base.Index'>\n",
      "Li\n"
     ]
    }
   ],
   "source": [
    "data = pd.read_json(\"example_json_converted.json\")\n",
    "# Print the headers of the dataset\n",
    "column_name = data.columns\n",
    "print(column_name)\n",
    "\n",
    "print(type(column_name))\n",
    "\n",
    "for i in column_name:\n",
    "    if i == \"Li\":\n",
    "        print(i)\n",
    "#for i in column_name:\n",
    "#    print (i)\n",
    "## Tell the length of the dataset\n",
    "#print(len(data))"
   ]
  },
  {
   "cell_type": "markdown",
   "metadata": {},
   "source": [
    "# 3. Interaction with SimPhoNy"
   ]
  },
  {
   "cell_type": "markdown",
   "metadata": {},
   "source": [
    "* utils.get_relationships_between(a, b) returns a set with the relationships that connect a and b .\n",
    "\n",
    "* a.get_attributes() returns a dictionary with the name and the value of the attributes of a.\n",
    "\n",
    "* a.is_a(oclass) is True if the instance a is or inherits from oclass.\n",
    "\n",
    "* osp.core.get_entity(\"namespace.entity\") returns the class associated with an entity in a namespace. It can be used to instantiate objects.\n",
    "\n",
    "* [attr.argname for attr in oclass.attributes.keys()] returns a list with the attributes of an oclass.\n",
    "\n",
    "* [attr.namespace for attr in oclass.attributes.keys()] returns a list with the namespace of the attributes of an oclass.\n",
    "\n",
    "* pretty_print(cuds_object)"
   ]
  },
  {
   "cell_type": "markdown",
   "metadata": {},
   "source": [
    "# 4. Simple Search\n",
    "\n",
    "* Search via a given name:\n",
    "To find all the materials with a given element:\n",
    "  queried_element ='Li'\n",
    "  search.find_cuds_object(criterion = lambda x: queried_element in x.element,\n",
    "                        root=city_cuds,\n",
    "                        rel=city.hasElements,\n",
    "                        find_all=True)\n",
    "\n",
    "* Search via a relationship:\n",
    " queried_uid = uuid.uuid4()\n",
    "    search.find_cuds_object_by_uid(uid=queried_uid,\n",
    "                               root=city_cuds,\n",
    "                               rel=city.get_default_rel())\n",
    "\n",
    "* Search based on the relationships\n",
    " search.find_cuds_objects_by_attribute(attribute='age',\n",
    "                                      value=26,\n",
    "                                      root=city_cuds,\n",
    "                                      rel=city.hasInhabitant)\n",
    "\n",
    "* Search based on the attributes\n",
    "search.find_cuds_objects_by_attribute(attribute='age',\n",
    "                                      value=26,\n",
    "                                      root=city_cuds,\n",
    "                                      rel=city.hasInhabitant)"
   ]
  },
  {
   "cell_type": "code",
   "execution_count": 115,
   "metadata": {},
   "outputs": [
    {
     "name": "stdout",
     "output_type": "stream",
     "text": [
      "['NMC']\n"
     ]
    },
    {
     "data": {
      "text/plain": [
       "0.13"
      ]
     },
     "execution_count": 115,
     "metadata": {},
     "output_type": "execute_result"
    }
   ],
   "source": [
    "#print(\"Creating a Cathode object, c...\")\n",
    "c = lib.Electrode(name=\"NMC\")\n",
    "#print(\"  uid of c: \" + str(c.uid))\n",
    "#print(\"  IRI of c: \" + str(c.iri))\n",
    "#print(\"  oclass of c: \" + str(c.oclass) + \"\\n\")\n",
    "\n",
    "\n",
    "#for i in range(len(data)-1):\n",
    "#    print(i)\n",
    "#This line of codes help to read in the values of any classes\n",
    "results = c.get_attributes()\n",
    "results_list = list(results.values())\n",
    "\n",
    "print(results_list)\n",
    "\n",
    "data.iloc[1,2]\n",
    "# When you are retuning a lot of values at the same time:\n",
    "#values_results = {name:results_list[i] for i,name in enumerate(results_list)}\n",
    "\n",
    "#trial_results = [i for i in enumerate(results_list)]\n",
    "#print(trial_results)\n",
    "\n",
    "\n",
    "\n",
    "\n",
    "#for row in range(0,len(data)-1):\n",
    "#    for name in column_name:\n",
    "#        if name == \"Li\":\n",
    "#            compos = lib.Composition(name =\"Li\", value= data.iloc[row,2]\n",
    "#            )\n",
    "#            print(c.get(oclass=compos))\n"
   ]
  },
  {
   "cell_type": "code",
   "execution_count": 116,
   "metadata": {},
   "outputs": [
    {
     "name": "stdout",
     "output_type": "stream",
     "text": [
      "0\n",
      "1\n",
      "2\n"
     ]
    }
   ],
   "source": [
    "# This\n",
    "for i in range(3):\n",
    "    locals()[\"group\"+str(i)] = i\n",
    "    print(locals()[\"group\"+str(i)])"
   ]
  },
  {
   "cell_type": "code",
   "execution_count": 19,
   "metadata": {},
   "outputs": [
    {
     "data": {
      "text/plain": [
       "<lib.Composition: 385f638f-fdec-4c81-9136-96cb4b49ffaf,  CoreSession: @0x1265ee310>"
      ]
     },
     "execution_count": 19,
     "metadata": {},
     "output_type": "execute_result"
    }
   ],
   "source": []
  },
  {
   "cell_type": "markdown",
   "metadata": {},
   "source": []
  },
  {
   "cell_type": "code",
   "execution_count": 110,
   "metadata": {},
   "outputs": [
    {
     "name": "stdout",
     "output_type": "stream",
     "text": [
      " Add a new material to the lib library\n",
      "  uid of c: 55106be9-aa48-4119-a0a7-5abf1c2fceb5\n",
      "  IRI of c: http://www.osp-core.com/cuds#55106be9-aa48-4119-a0a7-5abf1c2fceb5\n",
      "  oclass of c: lib.Electrode\n",
      "\n",
      "Creating Elements objects, p1, p2...\n",
      "  uid of e1: 6a0c15e1-6b0a-48db-94ee-7c52e211e635\n",
      "  IRI of e1: http://www.osp-core.com/cuds#6a0c15e1-6b0a-48db-94ee-7c52e211e635\n"
     ]
    }
   ],
   "source": [
    "print(\" Add a new material to the lib library\")\n",
    "\n",
    "c = lib.Electrode(name=\"NMC\")\n",
    "print(\"  uid of c: \" + str(c.uid))\n",
    "print(\"  IRI of c: \" + str(c.iri))\n",
    "print(\"  oclass of c: \" + str(c.oclass) + \"\\n\")\n",
    "\n",
    "print(\"Creating Elements objects, p1, p2...\")\n",
    "e1 = lib.Element(name=\"Li\")\n",
    "e2 = lib.Element(name=\"Mn\")\n",
    "\n",
    "c1=lib.Composition(name =\"Li\", value =0.1)\n",
    "c1=lib.Composition(name =\"Mn\", value =0.3)\n",
    "\n",
    "print(\"  uid of e1: \" + str(e1.uid))\n",
    "print(\"  IRI of e1: \" + str(e1.iri))\n",
    "\n",
    "#print(\"  oclass of p1: \" + str(p1.oclass) + \"\\n\")\n",
    "#print(\"  uid of p2: \" + str(p2.uid))\n",
    "#print(\"  IRI of p2: \" + str(p2.iri))\n",
    "#print(\"  oclass of p2: \" + str(p2.oclass) + \"\\n\")\n",
    "#\n",
    "#print(\"Checking attributes of the CUDS objects...\")\n",
    "#print(f\"Name of c: {c.name}.\")\n",
    "#print(\"Name of p1: \" + str(p1.name))\n",
    "#print(\"Name of p2: \" + str(p2.name))\n",
    "#\n",
    "##print(\"\\nChanging the attribute values of the CUDS objects...\")\n",
    "#print(f\"Change the name of {p1.name}.\")\n",
    "#p1.name = \"K\"\n",
    "#print(f\"Name of p1: {p1.name}.\")\n",
    "#\n",
    "#print(\"\\nAdding p1 to c...\")\n",
    "#c.add(p1, rel=lib.HAS_PART)\n",
    "#print(\"this has been added to the electrode material\")\n",
    "#\n",
    "#for el in c.iter():\n",
    "#    print(\"  uid: \" + str(el))\n",
    "#\n",
    "#print(\"\\nGetting p1 from c:\")\n",
    "##print(c.get(p1.uid))\n",
    "#\n",
    "#print(\"IRI of c :\" + str(c.iri))\n",
    "#pretty_print(c)\n",
    "#\n",
    "##print(\"\\nGetting lib.Element from c:\")\n",
    "##print(c.get(oclass=lib.Element))\n",
    "##\n",
    "##print(\"\\n Remove p1:\")\n",
    "##c.remove(p1.uid)\n",
    "##print(\"internal dict of c:\", c._Element, \"\\n\")\n",
    "##\n",
    "##print(\"\\nAdding neighborhoods to Cuds object in a loop:\")\n",
    "##for i in range(6):\n",
    "##    print(\"Added neighborhood %s\" % i)\n",
    "##    c.add(city.Neighborhood(name=\"neighborhood %s\" % i))\n",
    "##print(\"internal dict of c:\", c._neighbors, \"\\n\")\n",
    "##\n",
    "##print(\"Trying out the `is_a` method trivially with the new neighborhoods.\")\n",
    "##print(all(n.is_a(city.Neighborhood) for n in c.get(oclass=city.Neighborhood)))\n",
    "##"
   ]
  },
  {
   "cell_type": "code",
   "execution_count": 17,
   "metadata": {},
   "outputs": [
    {
     "data": {
      "text/plain": [
       "22"
      ]
     },
     "execution_count": 17,
     "metadata": {},
     "output_type": "execute_result"
    }
   ],
   "source": []
  },
  {
   "cell_type": "markdown",
   "metadata": {},
   "source": []
  },
  {
   "cell_type": "code",
   "execution_count": null,
   "metadata": {},
   "outputs": [],
   "source": []
  }
 ],
 "metadata": {
  "kernelspec": {
   "display_name": "Python 3.9.6 ('SimPhoNy': venv)",
   "language": "python",
   "name": "python3"
  },
  "language_info": {
   "codemirror_mode": {
    "name": "ipython",
    "version": 3
   },
   "file_extension": ".py",
   "mimetype": "text/x-python",
   "name": "python",
   "nbconvert_exporter": "python",
   "pygments_lexer": "ipython3",
   "version": "3.9.6"
  },
  "orig_nbformat": 4,
  "vscode": {
   "interpreter": {
    "hash": "7ef8d7d3aa3539ddef17926580cf34f8737b66f253e4bb7b3e478ab6e398f430"
   }
  }
 },
 "nbformat": 4,
 "nbformat_minor": 2
}
